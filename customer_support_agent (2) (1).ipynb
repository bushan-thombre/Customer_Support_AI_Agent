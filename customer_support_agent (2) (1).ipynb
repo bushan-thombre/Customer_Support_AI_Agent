{
 "cells": [
  {
   "cell_type": "code",
   "execution_count": 14,
   "metadata": {
    "colab": {
     "base_uri": "https://localhost:8080/"
    },
    "id": "YU7zYYgvsjZ1",
    "outputId": "a1304619-de69-4cf2-c4a0-e720c179a8a6"
   },
   "outputs": [
    {
     "name": "stdout",
     "output_type": "stream",
     "text": [
      "Requirement already satisfied: langchain in /usr/local/lib/python3.12/dist-packages (0.3.27)\n",
      "Requirement already satisfied: langchain_core in /usr/local/lib/python3.12/dist-packages (0.3.78)\n",
      "Requirement already satisfied: langchain_community in /usr/local/lib/python3.12/dist-packages (0.3.31)\n",
      "Requirement already satisfied: langchain_groq in /usr/local/lib/python3.12/dist-packages (0.3.8)\n",
      "Requirement already satisfied: langgraph in /usr/local/lib/python3.12/dist-packages (0.6.10)\n",
      "Requirement already satisfied: langchain-text-splitters<1.0.0,>=0.3.9 in /usr/local/lib/python3.12/dist-packages (from langchain) (0.3.11)\n",
      "Requirement already satisfied: langsmith>=0.1.17 in /usr/local/lib/python3.12/dist-packages (from langchain) (0.4.33)\n",
      "Requirement already satisfied: pydantic<3.0.0,>=2.7.4 in /usr/local/lib/python3.12/dist-packages (from langchain) (2.11.10)\n",
      "Requirement already satisfied: SQLAlchemy<3,>=1.4 in /usr/local/lib/python3.12/dist-packages (from langchain) (2.0.43)\n",
      "Requirement already satisfied: requests<3,>=2 in /usr/local/lib/python3.12/dist-packages (from langchain) (2.32.5)\n",
      "Requirement already satisfied: PyYAML>=5.3 in /usr/local/lib/python3.12/dist-packages (from langchain) (6.0.3)\n",
      "Requirement already satisfied: tenacity!=8.4.0,<10.0.0,>=8.1.0 in /usr/local/lib/python3.12/dist-packages (from langchain_core) (8.5.0)\n",
      "Requirement already satisfied: jsonpatch<2.0.0,>=1.33.0 in /usr/local/lib/python3.12/dist-packages (from langchain_core) (1.33)\n",
      "Requirement already satisfied: typing-extensions<5.0.0,>=4.7.0 in /usr/local/lib/python3.12/dist-packages (from langchain_core) (4.15.0)\n",
      "Requirement already satisfied: packaging<26.0.0,>=23.2.0 in /usr/local/lib/python3.12/dist-packages (from langchain_core) (25.0)\n",
      "Requirement already satisfied: aiohttp<4.0.0,>=3.8.3 in /usr/local/lib/python3.12/dist-packages (from langchain_community) (3.13.0)\n",
      "Requirement already satisfied: dataclasses-json<0.7.0,>=0.6.7 in /usr/local/lib/python3.12/dist-packages (from langchain_community) (0.6.7)\n",
      "Requirement already satisfied: pydantic-settings<3.0.0,>=2.10.1 in /usr/local/lib/python3.12/dist-packages (from langchain_community) (2.11.0)\n",
      "Requirement already satisfied: httpx-sse<1.0.0,>=0.4.0 in /usr/local/lib/python3.12/dist-packages (from langchain_community) (0.4.2)\n",
      "Requirement already satisfied: numpy>=1.26.2 in /usr/local/lib/python3.12/dist-packages (from langchain_community) (2.0.2)\n",
      "Requirement already satisfied: groq<1,>=0.30.0 in /usr/local/lib/python3.12/dist-packages (from langchain_groq) (0.32.0)\n",
      "Requirement already satisfied: langgraph-checkpoint<3.0.0,>=2.1.0 in /usr/local/lib/python3.12/dist-packages (from langgraph) (2.1.2)\n",
      "Requirement already satisfied: langgraph-prebuilt<0.7.0,>=0.6.0 in /usr/local/lib/python3.12/dist-packages (from langgraph) (0.6.4)\n",
      "Requirement already satisfied: langgraph-sdk<0.3.0,>=0.2.2 in /usr/local/lib/python3.12/dist-packages (from langgraph) (0.2.9)\n",
      "Requirement already satisfied: xxhash>=3.5.0 in /usr/local/lib/python3.12/dist-packages (from langgraph) (3.6.0)\n",
      "Requirement already satisfied: aiohappyeyeballs>=2.5.0 in /usr/local/lib/python3.12/dist-packages (from aiohttp<4.0.0,>=3.8.3->langchain_community) (2.6.1)\n",
      "Requirement already satisfied: aiosignal>=1.4.0 in /usr/local/lib/python3.12/dist-packages (from aiohttp<4.0.0,>=3.8.3->langchain_community) (1.4.0)\n",
      "Requirement already satisfied: attrs>=17.3.0 in /usr/local/lib/python3.12/dist-packages (from aiohttp<4.0.0,>=3.8.3->langchain_community) (25.4.0)\n",
      "Requirement already satisfied: frozenlist>=1.1.1 in /usr/local/lib/python3.12/dist-packages (from aiohttp<4.0.0,>=3.8.3->langchain_community) (1.8.0)\n",
      "Requirement already satisfied: multidict<7.0,>=4.5 in /usr/local/lib/python3.12/dist-packages (from aiohttp<4.0.0,>=3.8.3->langchain_community) (6.7.0)\n",
      "Requirement already satisfied: propcache>=0.2.0 in /usr/local/lib/python3.12/dist-packages (from aiohttp<4.0.0,>=3.8.3->langchain_community) (0.3.2)\n",
      "Requirement already satisfied: yarl<2.0,>=1.17.0 in /usr/local/lib/python3.12/dist-packages (from aiohttp<4.0.0,>=3.8.3->langchain_community) (1.22.0)\n",
      "Requirement already satisfied: marshmallow<4.0.0,>=3.18.0 in /usr/local/lib/python3.12/dist-packages (from dataclasses-json<0.7.0,>=0.6.7->langchain_community) (3.26.1)\n",
      "Requirement already satisfied: typing-inspect<1,>=0.4.0 in /usr/local/lib/python3.12/dist-packages (from dataclasses-json<0.7.0,>=0.6.7->langchain_community) (0.9.0)\n",
      "Requirement already satisfied: anyio<5,>=3.5.0 in /usr/local/lib/python3.12/dist-packages (from groq<1,>=0.30.0->langchain_groq) (4.11.0)\n",
      "Requirement already satisfied: distro<2,>=1.7.0 in /usr/local/lib/python3.12/dist-packages (from groq<1,>=0.30.0->langchain_groq) (1.9.0)\n",
      "Requirement already satisfied: httpx<1,>=0.23.0 in /usr/local/lib/python3.12/dist-packages (from groq<1,>=0.30.0->langchain_groq) (0.28.1)\n",
      "Requirement already satisfied: sniffio in /usr/local/lib/python3.12/dist-packages (from groq<1,>=0.30.0->langchain_groq) (1.3.1)\n",
      "Requirement already satisfied: jsonpointer>=1.9 in /usr/local/lib/python3.12/dist-packages (from jsonpatch<2.0.0,>=1.33.0->langchain_core) (3.0.0)\n",
      "Requirement already satisfied: ormsgpack>=1.10.0 in /usr/local/lib/python3.12/dist-packages (from langgraph-checkpoint<3.0.0,>=2.1.0->langgraph) (1.11.0)\n",
      "Requirement already satisfied: orjson>=3.10.1 in /usr/local/lib/python3.12/dist-packages (from langgraph-sdk<0.3.0,>=0.2.2->langgraph) (3.11.3)\n",
      "Requirement already satisfied: requests-toolbelt>=1.0.0 in /usr/local/lib/python3.12/dist-packages (from langsmith>=0.1.17->langchain) (1.0.0)\n",
      "Requirement already satisfied: zstandard>=0.23.0 in /usr/local/lib/python3.12/dist-packages (from langsmith>=0.1.17->langchain) (0.25.0)\n",
      "Requirement already satisfied: annotated-types>=0.6.0 in /usr/local/lib/python3.12/dist-packages (from pydantic<3.0.0,>=2.7.4->langchain) (0.7.0)\n",
      "Requirement already satisfied: pydantic-core==2.33.2 in /usr/local/lib/python3.12/dist-packages (from pydantic<3.0.0,>=2.7.4->langchain) (2.33.2)\n",
      "Requirement already satisfied: typing-inspection>=0.4.0 in /usr/local/lib/python3.12/dist-packages (from pydantic<3.0.0,>=2.7.4->langchain) (0.4.2)\n",
      "Requirement already satisfied: python-dotenv>=0.21.0 in /usr/local/lib/python3.12/dist-packages (from pydantic-settings<3.0.0,>=2.10.1->langchain_community) (1.1.1)\n",
      "Requirement already satisfied: charset_normalizer<4,>=2 in /usr/local/lib/python3.12/dist-packages (from requests<3,>=2->langchain) (3.4.3)\n",
      "Requirement already satisfied: idna<4,>=2.5 in /usr/local/lib/python3.12/dist-packages (from requests<3,>=2->langchain) (3.10)\n",
      "Requirement already satisfied: urllib3<3,>=1.21.1 in /usr/local/lib/python3.12/dist-packages (from requests<3,>=2->langchain) (2.5.0)\n",
      "Requirement already satisfied: certifi>=2017.4.17 in /usr/local/lib/python3.12/dist-packages (from requests<3,>=2->langchain) (2025.10.5)\n",
      "Requirement already satisfied: greenlet>=1 in /usr/local/lib/python3.12/dist-packages (from SQLAlchemy<3,>=1.4->langchain) (3.2.4)\n",
      "Requirement already satisfied: httpcore==1.* in /usr/local/lib/python3.12/dist-packages (from httpx<1,>=0.23.0->groq<1,>=0.30.0->langchain_groq) (1.0.9)\n",
      "Requirement already satisfied: h11>=0.16 in /usr/local/lib/python3.12/dist-packages (from httpcore==1.*->httpx<1,>=0.23.0->groq<1,>=0.30.0->langchain_groq) (0.16.0)\n",
      "Requirement already satisfied: mypy-extensions>=0.3.0 in /usr/local/lib/python3.12/dist-packages (from typing-inspect<1,>=0.4.0->dataclasses-json<0.7.0,>=0.6.7->langchain_community) (1.1.0)\n"
     ]
    }
   ],
   "source": [
    " !pip install langchain langchain_core langchain_community langchain_groq langgraph"
   ]
  },
  {
   "cell_type": "code",
   "execution_count": 2,
   "metadata": {
    "id": "-10j_o_0svKQ"
   },
   "outputs": [],
   "source": [
    "from typing import TypedDict\n",
    "from langgraph.graph import StateGraph,END\n",
    "from langchain_core.prompts import ChatPromptTemplate\n",
    "from langchain_core.runnables.graph import MermaidDrawMethod"
   ]
  },
  {
   "cell_type": "code",
   "execution_count": 3,
   "metadata": {
    "id": "S5pKMJ2ZtldS"
   },
   "outputs": [],
   "source": [
    "from re import S\n",
    "class state(TypedDict):\n",
    "  query:str\n",
    "  category:str\n",
    "  sentiment:str\n",
    "  response:str"
   ]
  },
  {
   "cell_type": "code",
   "execution_count": 4,
   "metadata": {
    "colab": {
     "base_uri": "https://localhost:8080/"
    },
    "id": "mgoOUQDUt99E",
    "outputId": "473cdd84-2bec-4c5e-9426-915c8953391f"
   },
   "outputs": [
    {
     "data": {
      "text/plain": [
       "AIMessage(content='Large language models (LLMs) are a type of artificial intelligence (AI) designed to process and understand human language at a large scale. They are trained on vast amounts of text data, which enables them to learn patterns, relationships, and structures of language.\\n\\nLLMs are typically characterized by their ability to:\\n\\n1. **Process large amounts of text data**: They can handle massive datasets, often consisting of billions of words or more.\\n2. **Learn from context**: They can understand the nuances of language, including grammar, syntax, semantics, and pragmatics.\\n3. **Generate human-like text**: They can produce coherent and natural-sounding text, often indistinguishable from text written by humans.\\n4. **Improve over time**: They can learn from feedback, adapt to new data, and refine their performance over time.\\n\\nSome key features of LLMs include:\\n\\n* **Tokenization**: breaking down text into individual words or tokens\\n* **Embeddings**: representing words as vectors in a high-dimensional space to capture semantic relationships\\n* **Attention mechanisms**: focusing on specific parts of the input text to improve understanding and generation\\n* **Transformer architectures**: using self-attention and other techniques to process sequential data, such as text\\n\\nLLMs have many applications, including:\\n\\n* **Language translation**: translating text from one language to another\\n* **Text summarization**: summarizing long pieces of text into concise summaries\\n* **Chatbots and conversational AI**: generating human-like responses to user input\\n* **Content generation**: creating new text, such as articles, stories, or dialogue\\n* **Sentiment analysis**: analyzing text to determine the sentiment or emotional tone\\n\\nExamples of LLMs include:\\n\\n* **BERT** (Bidirectional Encoder Representations from Transformers)\\n* **RoBERTa** (Robustly optimized BERT approach)\\n* **Transformers-XL** (a variant of the Transformer architecture)\\n* **LLaMA** (Large Language Model Application)\\n\\nThese models have achieved state-of-the-art results in various natural language processing (NLP) tasks and have the potential to revolutionize many areas of human communication and interaction.', additional_kwargs={}, response_metadata={'token_usage': {'completion_tokens': 435, 'prompt_tokens': 40, 'total_tokens': 475, 'completion_time': 0.989215818, 'prompt_time': 0.001920184, 'queue_time': 0.221754463, 'total_time': 0.991136002}, 'model_name': 'llama-3.3-70b-versatile', 'system_fingerprint': 'fp_155ab82e98', 'service_tier': 'on_demand', 'finish_reason': 'stop', 'logprobs': None}, id='run--a23d7ee1-294b-4a45-9975-e07b5ef76e97-0', usage_metadata={'input_tokens': 40, 'output_tokens': 435, 'total_tokens': 475})"
      ]
     },
     "execution_count": 4,
     "metadata": {},
     "output_type": "execute_result"
    }
   ],
   "source": [
    "from langchain_groq import ChatGroq\n",
    "llm = ChatGroq(\n",
    "    temperature = 0,\n",
    "    groq_api_key = \"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\",\n",
    "    model_name =\"llama-3.3-70b-versatile\"\n",
    ")\n",
    "llm.invoke(\"What is large language?\")"
   ]
  },
  {
   "cell_type": "code",
   "execution_count": 5,
   "metadata": {
    "id": "7KrQsMcRufAG"
   },
   "outputs": [],
   "source": [
    "def categorize(state:state):\n",
    "  \"Technical ,Billing, General\"\n",
    "  prompt = ChatPromptTemplate.from_template(\n",
    "      \"Categorize the following customer query into one of these categorizes:\"\n",
    "      \"Technical,Billing,General.Query:{query}\"\n",
    "  )\n",
    "  chain = prompt | llm\n",
    "  category = chain.invoke({\"query\":state[\"query\"]}).content\n",
    "  return {\"query\": state[\"query\"], \"category\":category, \"sentiment\":\"\", \"response\":\"\"} # Return empty strings instead of None\n",
    "\n",
    "def analyze_sentiment(state:state):\n",
    "  prompt = ChatPromptTemplate.from_template(\n",
    "      \"Analyze the sentiment of the following customer query\"\n",
    "      \"Response with either 'Positive','Neutral' or 'Negative'.Query:{query} \"\n",
    "  )\n",
    "  chain = prompt | llm\n",
    "  sentiment = chain.invoke({\"query\":state[\"query\"]}).content\n",
    "  return {\"query\": state[\"query\"], \"category\": state[\"category\"], \"sentiment\" : sentiment, \"response\":state[\"response\"]} # Pass through existing response\n",
    "\n",
    "def handle_technical(state:state):\n",
    "  prompt = ChatPromptTemplate.from_template(\n",
    "      \"Provide a technical support response to the following customer query.Query:{query}\"\n",
    "  )\n",
    "  chain = prompt | llm\n",
    "  response = chain.invoke({\"query\":state[\"query\"]}).content\n",
    "  return {\"query\": state[\"query\"], \"response\":response, \"category\": state[\"category\"], \"sentiment\": state[\"sentiment\"]}\n",
    "\n",
    "def handle_billing(state:state):\n",
    "  prompt = ChatPromptTemplate.from_template(\n",
    "      \"Provide a billing support response to the following customer query.Query:{query}\"\n",
    "  )\n",
    "  chain = prompt | llm\n",
    "  response = chain.invoke({\"query\":state[\"query\"]}).content\n",
    "  return {\"query\": state[\"query\"], \"response\":response, \"category\": state[\"category\"], \"sentiment\": state[\"sentiment\"]}\n",
    "\n",
    "def handle_general(state:state):\n",
    "  prompt = ChatPromptTemplate.from_template(\n",
    "      \"Provide a general support response to the following customer querry.Query:{query}\"\n",
    "  )\n",
    "  chain = prompt | llm\n",
    "  response = chain.invoke({\"query\" : state[\"query\"]}).content\n",
    "  return {\"query\": state[\"query\"], \"response\" : response, \"category\": state[\"category\"], \"sentiment\": state[\"sentiment\"]}\n",
    "\n",
    "def escalate(state:state):\n",
    "  return {\"query\": state[\"query\"], \"response\":\"These query has been escalated to human agent due to its negative sentiment\", \"category\": state[\"category\"], \"sentiment\": state[\"sentiment\"]}\n",
    "\n",
    "\n",
    "def route_query(state:state):\n",
    "  if state[\"sentiment\"] == \"Negative\":\n",
    "    return \"escalate\"\n",
    "  elif state[\"category\"] == \"Technical\":\n",
    "    return \"handle_technical\"\n",
    "  elif state[\"category\"] == \"Billing\":\n",
    "    return \"handle_billing\"\n",
    "  else:\n",
    "    return \"handle_general\""
   ]
  },
  {
   "cell_type": "code",
   "execution_count": 6,
   "metadata": {
    "id": "mFBzgJak1YlL"
   },
   "outputs": [],
   "source": [
    "workflow = StateGraph(state)\n",
    "\n",
    "workflow.add_node(\"categorize\", categorize)\n",
    "workflow.add_node(\"analyze_sentiment\", analyze_sentiment)\n",
    "workflow.add_node(\"handle_technical\", handle_technical)\n",
    "workflow.add_node(\"handle_billing\", handle_billing)\n",
    "workflow.add_node(\"handle_general\", handle_general)\n",
    "workflow.add_node(\"escalate\", escalate)\n",
    "\n",
    "workflow.add_edge(\"categorize\", \"analyze_sentiment\")\n",
    "workflow.add_conditional_edges(\n",
    "    \"analyze_sentiment\",\n",
    "    route_query, {\n",
    "        \"handle_technical\": \"handle_technical\",\n",
    "        \"handle_billing\": \"handle_billing\",\n",
    "        \"handle_general\": \"handle_general\",\n",
    "        \"escalate\": \"escalate\"\n",
    "        }\n",
    ")\n",
    "workflow.add_edge(\"handle_technical\",END)\n",
    "workflow.add_edge(\"handle_billing\",END)\n",
    "workflow.add_edge(\"handle_general\",END)\n",
    "workflow.add_edge(\"escalate\",END)\n",
    "\n",
    "workflow.set_entry_point(\"categorize\")\n",
    "\n",
    "app = workflow.compile()"
   ]
  },
  {
   "cell_type": "code",
   "execution_count": 7,
   "metadata": {
    "colab": {
     "base_uri": "https://localhost:8080/",
     "height": 449
    },
    "id": "JGmV7KFg3vI9",
    "outputId": "c76b76f0-6d81-410b-9fd3-a639cb833552"
   },
   "outputs": [
    {
     "data": {
      "image/png": "[encoded data removed]",
      "text/plain": [
       "<IPython.core.display.Image object>"
      ]
     },
     "metadata": {},
     "output_type": "display_data"
    }
   ],
   "source": [
    "from IPython.display import Image\n",
    "display(\n",
    "    Image(\n",
    "        app.get_graph().draw_mermaid_png(\n",
    "            draw_method = MermaidDrawMethod.API\n",
    "        )\n",
    "    )\n",
    ")"
   ]
  },
  {
   "cell_type": "code",
   "execution_count": 8,
   "metadata": {
    "id": "JOJN66zu4gU9"
   },
   "outputs": [],
   "source": [
    "from typing import Dict\n",
    "\n",
    "def run_customer_support(query:str)-> Dict[str,str]:\n",
    "  results = app.invoke({\"query\":query})\n",
    "  return {\n",
    "      \"category\":results[\"category\"],\n",
    "      \"sentiment\":results[\"sentiment\"],\n",
    "      \"response\":results[\"response\"]\n",
    "  }"
   ]
  },
  {
   "cell_type": "code",
   "execution_count": 9,
   "metadata": {
    "colab": {
     "base_uri": "https://localhost:8080/"
    },
    "id": "wuwmd-0y5ZsP",
    "outputId": "faf47164-f773-4b0e-a051-7d08a3c2327c"
   },
   "outputs": [
    {
     "name": "stdout",
     "output_type": "stream",
     "text": [
      "Query:My internet connection is very slow,Can you help me ?\n",
      "Category:The customer query can be categorized as: **Technical**\n",
      "\n",
      "Reason: The query is related to a technical issue with the customer's internet connection, which is a common technical support topic. The customer is seeking help to resolve the slow internet connection issue, which requires technical assistance.\n",
      "Sentiment:The sentiment of the customer query is: 'Negative'.\n",
      "\n",
      "Reason: The customer is expressing dissatisfaction with their internet connection, stating that it is \"very slow\", which indicates a problem or issue that needs to be resolved. Although they are asking for help, the overall tone is negative due to the complaint about the slow connection.\n",
      "Response:I'm so sorry to hear that you're experiencing a slow internet connection. I'd be happy to help you troubleshoot the issue.\n",
      "\n",
      "To better assist you, could you please provide me with some more details? For example:\n",
      "\n",
      "* What type of internet connection do you have (e.g. Wi-Fi, Ethernet, mobile data)?\n",
      "* What device are you using to connect to the internet (e.g. laptop, desktop, smartphone, tablet)?\n",
      "* Have you recently made any changes to your internet setup or equipment?\n",
      "* Are you experiencing slow speeds at all times or just during certain times of the day?\n",
      "* Have you tried restarting your router or modem to see if that resolves the issue?\n",
      "\n",
      "Additionally, you can try a few basic troubleshooting steps to see if they help improve your internet speed:\n",
      "\n",
      "* Restart your router or modem\n",
      "* Check for any physical obstructions or interference with your Wi-Fi signal\n",
      "* Close any unnecessary programs or background applications that may be using up bandwidth\n",
      "* Check your internet service provider's website for any outages or maintenance in your area\n",
      "\n",
      "If none of these steps help, I can work with you to investigate further and potentially escalate the issue to our technical team for more advanced troubleshooting.\n",
      "\n",
      "Please let me know if there's anything else you've tried or if you have any additional information that might help me assist you. I'm here to help and want to get your internet connection up and running smoothly as soon as possible.\n",
      "\n",
      "\n"
     ]
    }
   ],
   "source": [
    "query = \"My internet connection is very slow,Can you help me ?\"\n",
    "result = run_customer_support({\"query\" : query})\n",
    "print(f\"Query:{query}\")\n",
    "print(f\"Category:{result['category']}\")\n",
    "print(f\"Sentiment:{result['sentiment']}\")\n",
    "print(f\"Response:{result['response']}\")\n",
    "print(\"\\n\")"
   ]
  },
  {
   "cell_type": "code",
   "execution_count": 10,
   "metadata": {
    "colab": {
     "base_uri": "https://localhost:8080/"
    },
    "id": "Q2OZJSzy6i1S",
    "outputId": "2225fe14-bc91-4918-afa2-f89c45df8a1e"
   },
   "outputs": [
    {
     "name": "stdout",
     "output_type": "stream",
     "text": [
      "Requirement already satisfied: gradio in /usr/local/lib/python3.12/dist-packages (5.49.0)\n",
      "Requirement already satisfied: aiofiles<25.0,>=22.0 in /usr/local/lib/python3.12/dist-packages (from gradio) (24.1.0)\n",
      "Requirement already satisfied: anyio<5.0,>=3.0 in /usr/local/lib/python3.12/dist-packages (from gradio) (4.11.0)\n",
      "Requirement already satisfied: brotli>=1.1.0 in /usr/local/lib/python3.12/dist-packages (from gradio) (1.1.0)\n",
      "Requirement already satisfied: fastapi<1.0,>=0.115.2 in /usr/local/lib/python3.12/dist-packages (from gradio) (0.118.2)\n",
      "Requirement already satisfied: ffmpy in /usr/local/lib/python3.12/dist-packages (from gradio) (0.6.2)\n",
      "Requirement already satisfied: gradio-client==1.13.3 in /usr/local/lib/python3.12/dist-packages (from gradio) (1.13.3)\n",
      "Requirement already satisfied: groovy~=0.1 in /usr/local/lib/python3.12/dist-packages (from gradio) (0.1.2)\n",
      "Requirement already satisfied: httpx<1.0,>=0.24.1 in /usr/local/lib/python3.12/dist-packages (from gradio) (0.28.1)\n",
      "Requirement already satisfied: huggingface-hub<2.0,>=0.33.5 in /usr/local/lib/python3.12/dist-packages (from gradio) (0.35.3)\n",
      "Requirement already satisfied: jinja2<4.0 in /usr/local/lib/python3.12/dist-packages (from gradio) (3.1.6)\n",
      "Requirement already satisfied: markupsafe<4.0,>=2.0 in /usr/local/lib/python3.12/dist-packages (from gradio) (3.0.3)\n",
      "Requirement already satisfied: numpy<3.0,>=1.0 in /usr/local/lib/python3.12/dist-packages (from gradio) (2.0.2)\n",
      "Requirement already satisfied: orjson~=3.0 in /usr/local/lib/python3.12/dist-packages (from gradio) (3.11.3)\n",
      "Requirement already satisfied: packaging in /usr/local/lib/python3.12/dist-packages (from gradio) (25.0)\n",
      "Requirement already satisfied: pandas<3.0,>=1.0 in /usr/local/lib/python3.12/dist-packages (from gradio) (2.2.2)\n",
      "Requirement already satisfied: pillow<12.0,>=8.0 in /usr/local/lib/python3.12/dist-packages (from gradio) (11.3.0)\n",
      "Requirement already satisfied: pydantic<2.12,>=2.0 in /usr/local/lib/python3.12/dist-packages (from gradio) (2.11.10)\n",
      "Requirement already satisfied: pydub in /usr/local/lib/python3.12/dist-packages (from gradio) (0.25.1)\n",
      "Requirement already satisfied: python-multipart>=0.0.18 in /usr/local/lib/python3.12/dist-packages (from gradio) (0.0.20)\n",
      "Requirement already satisfied: pyyaml<7.0,>=5.0 in /usr/local/lib/python3.12/dist-packages (from gradio) (6.0.3)\n",
      "Requirement already satisfied: ruff>=0.9.3 in /usr/local/lib/python3.12/dist-packages (from gradio) (0.14.0)\n",
      "Requirement already satisfied: safehttpx<0.2.0,>=0.1.6 in /usr/local/lib/python3.12/dist-packages (from gradio) (0.1.6)\n",
      "Requirement already satisfied: semantic-version~=2.0 in /usr/local/lib/python3.12/dist-packages (from gradio) (2.10.0)\n",
      "Requirement already satisfied: starlette<1.0,>=0.40.0 in /usr/local/lib/python3.12/dist-packages (from gradio) (0.48.0)\n",
      "Requirement already satisfied: tomlkit<0.14.0,>=0.12.0 in /usr/local/lib/python3.12/dist-packages (from gradio) (0.13.3)\n",
      "Requirement already satisfied: typer<1.0,>=0.12 in /usr/local/lib/python3.12/dist-packages (from gradio) (0.19.2)\n",
      "Requirement already satisfied: typing-extensions~=4.0 in /usr/local/lib/python3.12/dist-packages (from gradio) (4.15.0)\n",
      "Requirement already satisfied: uvicorn>=0.14.0 in /usr/local/lib/python3.12/dist-packages (from gradio) (0.37.0)\n",
      "Requirement already satisfied: fsspec in /usr/local/lib/python3.12/dist-packages (from gradio-client==1.13.3->gradio) (2025.3.0)\n",
      "Requirement already satisfied: websockets<16.0,>=13.0 in /usr/local/lib/python3.12/dist-packages (from gradio-client==1.13.3->gradio) (15.0.1)\n",
      "Requirement already satisfied: idna>=2.8 in /usr/local/lib/python3.12/dist-packages (from anyio<5.0,>=3.0->gradio) (3.10)\n",
      "Requirement already satisfied: sniffio>=1.1 in /usr/local/lib/python3.12/dist-packages (from anyio<5.0,>=3.0->gradio) (1.3.1)\n",
      "Requirement already satisfied: certifi in /usr/local/lib/python3.12/dist-packages (from httpx<1.0,>=0.24.1->gradio) (2025.10.5)\n",
      "Requirement already satisfied: httpcore==1.* in /usr/local/lib/python3.12/dist-packages (from httpx<1.0,>=0.24.1->gradio) (1.0.9)\n",
      "Requirement already satisfied: h11>=0.16 in /usr/local/lib/python3.12/dist-packages (from httpcore==1.*->httpx<1.0,>=0.24.1->gradio) (0.16.0)\n",
      "Requirement already satisfied: filelock in /usr/local/lib/python3.12/dist-packages (from huggingface-hub<2.0,>=0.33.5->gradio) (3.20.0)\n",
      "Requirement already satisfied: requests in /usr/local/lib/python3.12/dist-packages (from huggingface-hub<2.0,>=0.33.5->gradio) (2.32.5)\n",
      "Requirement already satisfied: tqdm>=4.42.1 in /usr/local/lib/python3.12/dist-packages (from huggingface-hub<2.0,>=0.33.5->gradio) (4.67.1)\n",
      "Requirement already satisfied: hf-xet<2.0.0,>=1.1.3 in /usr/local/lib/python3.12/dist-packages (from huggingface-hub<2.0,>=0.33.5->gradio) (1.1.10)\n",
      "Requirement already satisfied: python-dateutil>=2.8.2 in /usr/local/lib/python3.12/dist-packages (from pandas<3.0,>=1.0->gradio) (2.9.0.post0)\n",
      "Requirement already satisfied: pytz>=2020.1 in /usr/local/lib/python3.12/dist-packages (from pandas<3.0,>=1.0->gradio) (2025.2)\n",
      "Requirement already satisfied: tzdata>=2022.7 in /usr/local/lib/python3.12/dist-packages (from pandas<3.0,>=1.0->gradio) (2025.2)\n",
      "Requirement already satisfied: annotated-types>=0.6.0 in /usr/local/lib/python3.12/dist-packages (from pydantic<2.12,>=2.0->gradio) (0.7.0)\n",
      "Requirement already satisfied: pydantic-core==2.33.2 in /usr/local/lib/python3.12/dist-packages (from pydantic<2.12,>=2.0->gradio) (2.33.2)\n",
      "Requirement already satisfied: typing-inspection>=0.4.0 in /usr/local/lib/python3.12/dist-packages (from pydantic<2.12,>=2.0->gradio) (0.4.2)\n",
      "Requirement already satisfied: click>=8.0.0 in /usr/local/lib/python3.12/dist-packages (from typer<1.0,>=0.12->gradio) (8.3.0)\n",
      "Requirement already satisfied: shellingham>=1.3.0 in /usr/local/lib/python3.12/dist-packages (from typer<1.0,>=0.12->gradio) (1.5.4)\n",
      "Requirement already satisfied: rich>=10.11.0 in /usr/local/lib/python3.12/dist-packages (from typer<1.0,>=0.12->gradio) (13.9.4)\n",
      "Requirement already satisfied: six>=1.5 in /usr/local/lib/python3.12/dist-packages (from python-dateutil>=2.8.2->pandas<3.0,>=1.0->gradio) (1.17.0)\n",
      "Requirement already satisfied: markdown-it-py>=2.2.0 in /usr/local/lib/python3.12/dist-packages (from rich>=10.11.0->typer<1.0,>=0.12->gradio) (4.0.0)\n",
      "Requirement already satisfied: pygments<3.0.0,>=2.13.0 in /usr/local/lib/python3.12/dist-packages (from rich>=10.11.0->typer<1.0,>=0.12->gradio) (2.19.2)\n",
      "Requirement already satisfied: charset_normalizer<4,>=2 in /usr/local/lib/python3.12/dist-packages (from requests->huggingface-hub<2.0,>=0.33.5->gradio) (3.4.3)\n",
      "Requirement already satisfied: urllib3<3,>=1.21.1 in /usr/local/lib/python3.12/dist-packages (from requests->huggingface-hub<2.0,>=0.33.5->gradio) (2.5.0)\n",
      "Requirement already satisfied: mdurl~=0.1 in /usr/local/lib/python3.12/dist-packages (from markdown-it-py>=2.2.0->rich>=10.11.0->typer<1.0,>=0.12->gradio) (0.1.2)\n"
     ]
    }
   ],
   "source": [
    "!pip install gradio"
   ]
  },
  {
   "cell_type": "code",
   "execution_count": 11,
   "metadata": {
    "id": "tyFIwU9r6kzF"
   },
   "outputs": [],
   "source": [
    "import gradio as gr"
   ]
  },
  {
   "cell_type": "code",
   "execution_count": 12,
   "metadata": {
    "id": "eFolopVK6zKG"
   },
   "outputs": [],
   "source": [
    "def gradio_interface(query:str):\n",
    "  result = run_customer_support({\"query\" : query})\n",
    "  return(\n",
    "      f\"Category:{result['category']}\"\n",
    "      f\"Sentiment:{result['sentiment']}\"\n",
    "      f\"Response:{result['response']}\"\n",
    "  )\n",
    "  print(\"/n\")\n"
   ]
  },
  {
   "cell_type": "code",
   "execution_count": 13,
   "metadata": {
    "colab": {
     "base_uri": "https://localhost:8080/",
     "height": 782,
     "referenced_widgets": [
      "760dda1a4dd74640adaaabc4ddabc233",
      "a400816bd3684af68bc849f7849225ed",
      "bf999b8219bd424bb8f49cdb2d8cbed7",
      "c285eaa778234917b1a6135d2d6ef688",
      "db31e626a93b41fcbdc80e28f8d19c86",
      "26fcb3780dd341cd85c07b53aaa700bb",
      "21eae9a585634c97ac64c9f3e4d57390",
      "e2ae4d37ef3e4f85a6ba8c3c8717b175",
      "b1a1dd92116f4ddbb26ee80e71655350",
      "e38ba40ee82b4fe4a6c829640667ce37",
      "1dd79d3ac8044cda9b90703ea757a54a"
     ]
    },
    "id": "hdRd-Jxq62_P",
    "outputId": "9e071424-4dfe-4441-da45-5412c74c2742"
   },
   "outputs": [
    {
     "name": "stderr",
     "output_type": "stream",
     "text": [
      "/usr/local/lib/python3.12/dist-packages/huggingface_hub/utils/_auth.py:94: UserWarning: \n",
      "The secret `HF_TOKEN` does not exist in your Colab secrets.\n",
      "To authenticate with the Hugging Face Hub, create a token in your settings tab (https://huggingface.co/settings/tokens), set it as secret in your Google Colab and restart your session.\n",
      "You will be able to reuse this secret in all of your notebooks.\n",
      "Please note that authentication is recommended but still optional to access public models or datasets.\n",
      "  warnings.warn(\n"
     ]
    },
    {
     "data": {
      "application/vnd.jupyter.widget-view+json": {
       "model_id": "760dda1a4dd74640adaaabc4ddabc233",
       "version_major": 2,
       "version_minor": 0
      },
      "text/plain": [
       "theme_schema%400.0.1.json: 0.00B [00:00, ?B/s]"
      ]
     },
     "metadata": {},
     "output_type": "display_data"
    },
    {
     "name": "stdout",
     "output_type": "stream",
     "text": [
      "It looks like you are running Gradio on a hosted Jupyter notebook, which requires `share=True`. Automatically setting `share=True` (you can turn this off by setting `share=False` in `launch()` explicitly).\n",
      "\n",
      "Colab notebook detected. To show errors in colab notebook, set debug=True in launch()\n",
      "* Running on public URL: https://82aa8cfb593db8e7d7.gradio.live\n",
      "\n",
      "This share link expires in 1 week. For free permanent hosting and GPU upgrades, run `gradio deploy` from the terminal in the working directory to deploy to Hugging Face Spaces (https://huggingface.co/spaces)\n"
     ]
    },
    {
     "data": {
      "text/html": [
       "<div><iframe src=\"https://82aa8cfb593db8e7d7.gradio.live\" width=\"100%\" height=\"500\" allow=\"autoplay; camera; microphone; clipboard-read; clipboard-write;\" frameborder=\"0\" allowfullscreen></iframe></div>"
      ],
      "text/plain": [
       "<IPython.core.display.HTML object>"
      ]
     },
     "metadata": {},
     "output_type": "display_data"
    },
    {
     "data": {
      "text/plain": []
     },
     "execution_count": 13,
     "metadata": {},
     "output_type": "execute_result"
    }
   ],
   "source": [
    "gui = gr.Interface(\n",
    "    fn=gradio_interface,\n",
    "    theme = 'Yntec/HaleyCH_Theme_Orange_Green',\n",
    "    inputs  = gr.Textbox(label = \"Enter your query \"),\n",
    "    outputs = gr.Markdown(),\n",
    "    title   = \"Customer Support Assistance\",\n",
    "    description = \"Provide a query and recieve a categorical response.The system analyses the sentiment\"\n",
    ")\n",
    "\n",
    "gui.launch()"
   ]
  }
  ],
 "metadata": {
  "colab": {
   "provenance": []
  },
  "kernelspec": {
   "display_name": "Python 3",
   "name": "python3"
  },
  "language_info": {
   "name": "python"
  }
 },
 "nbformat": 4,
 "nbformat_minor": 0
}

